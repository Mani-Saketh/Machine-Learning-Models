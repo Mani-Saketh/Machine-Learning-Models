{
 "cells": [
  {
   "cell_type": "markdown",
   "metadata": {},
   "source": [
    "## Chennapragada. V. S. S. Mani Saketh\n",
    "## AP19110010348\n",
    "## CSE - C\n",
    "## ML Assignment 4"
   ]
  },
  {
   "cell_type": "markdown",
   "metadata": {},
   "source": [
    "1. Implement K-NN Classifier for the classification of any dataset (maybe iris dataset) of your choice.\n",
    "        a. Load the data set\n",
    "        b. Split the data set to train and test sets\n",
    "        c. Test your model using the test set. Find accuracy and confusion Matrix.\n",
    "        d. Examine the effect of the value of K on accuracy/performance. Plot the curve “k vs accuracy” and find out the value of k for maximum accuracy for the test samples.     \n",
    "\n",
    "\n",
    "NOTE: Don’t use any library for KNN classification. Develop a generalized function to implement K-NN Classifier.\n"
   ]
  },
  {
   "cell_type": "code",
   "execution_count": 30,
   "metadata": {},
   "outputs": [
    {
     "name": "stdout",
     "output_type": "stream",
     "text": [
      "The Predictions using KNN Classification\n",
      "[0, 1, 1, 0, 2, 1, 2, 0, 0, 2, 1, 0, 2, 1, 1, 0, 1, 1, 0, 0, 1, 1, 2, 0, 2, 1, 0, 0, 1, 2, 1, 2, 1, 2, 2, 0, 1, 0, 1, 2, 2, 0, 1, 2, 1]\n",
      "The accuracy score - \n",
      "0.9555555555555556\n",
      "Confusion Matrix - \n",
      "[[14  0  0]\n",
      " [ 0 17  1]\n",
      " [ 0  1 12]]\n",
      "Value of K Corresponding to the Highest Accuracy Value is - \n",
      "K-Value -     Highest Accuracy\n",
      "11      -     0.9777777777777777\n"
     ]
    },
    {
     "data": {
      "image/png": "[encoded data removed]",
      "text/plain": [
       "<Figure size 576x432 with 1 Axes>"
      ]
     },
     "metadata": {
      "needs_background": "light"
     },
     "output_type": "display_data"
    }
   ],
   "source": [
    "#Including Libraries\n",
    "import pandas as pd\n",
    "import numpy as np\n",
    "import matplotlib.pyplot as plt\n",
    "from sklearn import datasets\n",
    "from collections import Counter\n",
    "from sklearn.model_selection import train_test_split\n",
    "from sklearn.preprocessing import StandardScaler\n",
    "from sklearn.metrics import confusion_matrix\n",
    "#Importing datasets\n",
    "iris = datasets.load_iris()\n",
    "df = pd.DataFrame(data=iris.data, columns=iris.feature_names)\n",
    "df['target'] = iris.target\n",
    "X = df.drop('target', axis=1)\n",
    "y = df.target\n",
    "#Function for calculating Manhattan Distance\n",
    "def manhattan_distance(a, b):    \n",
    "    # Store the number of dimensions\n",
    "    dim = len(a)\n",
    "    # Set initial distance to 0\n",
    "    distance = 0\n",
    "    # Calculate manhattan distance using parameter p\n",
    "    for i in range(dim):\n",
    "        distance += abs(a[i] - b[i])\n",
    "    return distance\n",
    "# Splitting the data\n",
    "X_train, X_test, y_train, y_test = train_test_split(X, y, test_size=0.3,random_state=1)\n",
    "# Scaling the X data\n",
    "scaler = StandardScaler()\n",
    "X_train = scaler.fit_transform(X_train)\n",
    "X_test = scaler.transform(X_test)\n",
    "def knn_predict(X_train, X_test, y_train, y_test, k):\n",
    "    # Making predictions on the test data\n",
    "    y_hat_test = []\n",
    "    for test_point in X_test:\n",
    "        distances = []\n",
    "        for train_point in X_train:\n",
    "            distance = manhattan_distance(test_point, train_point)\n",
    "            distances.append(distance)\n",
    "        # Storing distances in a dataframe\n",
    "        df_dists = pd.DataFrame(data=distances, columns=['dist'],index=y_train.index)\n",
    "        # Sorting distances, and only considering the k closest points\n",
    "        df_nn = df_dists.sort_values(by=['dist'], axis=0)[:k]\n",
    "        # Creating counter object to track the labels of k closest neighbors\n",
    "        counter = Counter(y_train[df_nn.index])\n",
    "        # Getting most common label of all the nearest neighbors\n",
    "        prediction = counter.most_common()[0][0]\n",
    "        # Appending prediction to output list\n",
    "        y_hat_test.append(prediction)\n",
    "    return y_hat_test\n",
    "# Making predictions on test dataset\n",
    "y_hat_test = knn_predict(X_train, X_test, y_train, y_test, k=5)\n",
    "print(\"The Predictions using KNN Classification\")\n",
    "print(y_hat_test)\n",
    "\n",
    "# Getting test accuracy score\n",
    "from sklearn.metrics import accuracy_score\n",
    "print(\"The accuracy score - \")\n",
    "print(accuracy_score(y_test, y_hat_test))\n",
    "\n",
    "#Confusion Matrix\n",
    "print(\"Confusion Matrix - \")\n",
    "print(confusion_matrix(y_test, y_hat_test))\n",
    "\n",
    "# Obtaining accuracy score varying k from 1 to 99\n",
    "accuracies = []\n",
    "kn = [int(i) for i in range(1,100)]\n",
    "for i in range(len(kn)):\n",
    "    y_hat_test = knn_predict(X_train, X_test, y_train, y_test, kn[i])\n",
    "    accuracies.append(accuracy_score(y_test, y_hat_test))\n",
    "\n",
    "# Plotting the results \n",
    "fig, ax = plt.subplots(figsize=(8,6))\n",
    "ax.plot(kn, accuracies)\n",
    "plt.title('Graph between k and accuracy scores')\n",
    "ax.set_xlabel('# of Nearest Neighbors (k)')\n",
    "ax.set_ylabel('Accuracy (%)')\n",
    "\n",
    "#Largest Values\n",
    "print(\"Value of K Corresponding to the Highest Accuracy Value is - \")\n",
    "max_y = max(accuracies)\n",
    "max_x = kn[accuracies.index(max_y)]\n",
    "print(\"K-Value -     Highest Accuracy\")\n",
    "print(str(max_x)+ \"      -     \" + str(max_y))\n"
   ]
  }
 ],
 "metadata": {
  "kernelspec": {
   "display_name": "Python 3",
   "language": "python",
   "name": "python3"
  },
  "language_info": {
   "codemirror_mode": {
    "name": "ipython",
    "version": 3
   },
   "file_extension": ".py",
   "mimetype": "text/x-python",
   "name": "python",
   "nbconvert_exporter": "python",
   "pygments_lexer": "ipython3",
   "version": "3.8.5"
  }
 },
 "nbformat": 4,
 "nbformat_minor": 4
}
