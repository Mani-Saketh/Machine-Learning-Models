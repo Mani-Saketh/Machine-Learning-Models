{
 "cells": [
  {
   "cell_type": "markdown",
   "metadata": {},
   "source": [
    "### Chennapragada. V. S. S. Mani Saketh\n",
    "### AP19110010348\n",
    "### CSE - C\n",
    "### Machine Learning Practice Assignment - 1"
   ]
  },
  {
   "cell_type": "markdown",
   "metadata": {},
   "source": [
    "## Write a python program to create a random array and compute the Covariance and Correlation Matrix."
   ]
  },
  {
   "cell_type": "markdown",
   "metadata": {},
   "source": [
    "#### Model 1"
   ]
  },
  {
   "cell_type": "code",
   "execution_count": 38,
   "metadata": {},
   "outputs": [
    {
     "name": "stdout",
     "output_type": "stream",
     "text": [
      "Enter the no. of data records: 4\n",
      "Enter the no. of values in each data record: 4\n",
      "\n",
      "The covariance of x and y values are : \n",
      "\n",
      "-0.9950102449523389\n"
     ]
    }
   ],
   "source": [
    "import numpy as np\n",
    "import math\n",
    "n = int(input(\"Enter the no. of data records: \"))\n",
    "m = int(input(\"Enter the no. of values in each data record: \"))\n",
    "a = []\n",
    "for i in range(n):\n",
    "    a.append(np.random.random())\n",
    "b = []\n",
    "for i in range(m):\n",
    "    b.append(np.random.random())\n",
    "def covariance(x, y):\n",
    "  sum_x = 0\n",
    "  mean_x = 0\n",
    "  for i in x:\n",
    "    sum_x += i\n",
    "  mean_x = sum_x / len(x)\n",
    "\n",
    "  sum_y = 0\n",
    "  mean_y = 0\n",
    "  for i in y:\n",
    "    sum_y += i\n",
    "  mean_y = sum_y / len(y)\n",
    "\n",
    "\n",
    "  sum_corr = 0\n",
    "  for i in range(len(x)):\n",
    "    sum_corr += (x[i] - mean_x) * (y[i] - mean_y)\n",
    "  c = sum_corr / len(x)-1\n",
    "  return c\n",
    "c = covariance(a,b)\n",
    "print(\"\\nThe covariance of x and y values are : \\n\")\n",
    "print(c)"
   ]
  },
  {
   "cell_type": "code",
   "execution_count": 39,
   "metadata": {},
   "outputs": [
    {
     "name": "stdout",
     "output_type": "stream",
     "text": [
      "Enter the no. of data records: 4\n",
      "Enter the no. of values in each data record: 4\n",
      "\n",
      "The correlation of x and y values are : \n",
      "\n",
      "0.06467619577817867\n"
     ]
    }
   ],
   "source": [
    "import numpy as np\n",
    "import math\n",
    "n = int(input(\"Enter the no. of data records: \"))\n",
    "m = int(input(\"Enter the no. of values in each data record: \"))\n",
    "a = []\n",
    "for i in range(n):\n",
    "    a.append(np.random.random())\n",
    "b = []\n",
    "for i in range(m):\n",
    "    b.append(np.random.random())\n",
    "def correlation(x, y):\n",
    "  sum_x = 0\n",
    "  mean_x = 0\n",
    "  for i in x:\n",
    "    sum_x += i\n",
    "  mean_x = sum_x / len(x)\n",
    "\n",
    "  sum_y = 0\n",
    "  mean_y = 0\n",
    "  for i in y:\n",
    "    sum_y += i\n",
    "  mean_y = sum_y / len(y)\n",
    "\n",
    "  var_x = 0\n",
    "  for i in x:\n",
    "    var_x += (i - mean_x) ** 2\n",
    "  \n",
    "  var_y = 0\n",
    "  for i in y:\n",
    "    var_y += (i - mean_y) ** 2\n",
    "  \n",
    "  var_sum = math.sqrt(var_x * var_y)\n",
    "\n",
    "  sum_corr = 0\n",
    "  for i in range(len(x)):\n",
    "    sum_corr += (x[i] - mean_x) * (y[i] - mean_y)\n",
    "  c = sum_corr / var_sum\n",
    "  return c\n",
    "c = correlation(a,b)\n",
    "print(\"\\nThe correlation of x and y values are : \\n\")\n",
    "print(c)"
   ]
  },
  {
   "cell_type": "markdown",
   "metadata": {},
   "source": [
    "#### Model 2"
   ]
  },
  {
   "cell_type": "code",
   "execution_count": 40,
   "metadata": {},
   "outputs": [
    {
     "name": "stdout",
     "output_type": "stream",
     "text": [
      "Enter the no. of data records: 4\n",
      "Enter the no. of values in each data record: 4\n",
      "\n",
      "The Covariance matrix is : \n",
      "\n",
      "[[ 0.08153982 -0.05983211 -0.01338012  0.04040694]\n",
      " [-0.05983211  0.15630466  0.02938019  0.04828779]\n",
      " [-0.01338012  0.02938019  0.0915606   0.02999455]\n",
      " [ 0.04040694  0.04828779  0.02999455  0.08025108]]\n"
     ]
    }
   ],
   "source": [
    "n = int(input(\"Enter the no. of data records: \"))\n",
    "m = int(input(\"Enter the no. of values in each data record: \"))\n",
    "a = np.random.rand(n, m)\n",
    "b = np.cov(a)\n",
    "print(\"\\nThe Covariance matrix is : \\n\")\n",
    "print(b)\n"
   ]
  },
  {
   "cell_type": "code",
   "execution_count": 42,
   "metadata": {},
   "outputs": [
    {
     "name": "stdout",
     "output_type": "stream",
     "text": [
      "Enter the no. of data records: 4\n",
      "Enter the no. of values in each data record: 4\n",
      "\n",
      "The Correlation matrix is : \n",
      "\n"
     ]
    },
    {
     "data": {
      "text/plain": [
       "array([[ 1.        , -0.03858977],\n",
       "       [-0.03858977,  1.        ]])"
      ]
     },
     "execution_count": 42,
     "metadata": {},
     "output_type": "execute_result"
    }
   ],
   "source": [
    "n = int(input(\"Enter the no. of data records: \"))\n",
    "m = int(input(\"Enter the no. of values in each data record: \"))\n",
    "a = []\n",
    "for i in range(n):\n",
    "    a.append(np.random.random())\n",
    "b = []\n",
    "for i in range(m):\n",
    "    b.append(np.random.random())\n",
    "print(\"\\nThe Correlation matrix is : \\n\")\n",
    "np.corrcoef(a,b)"
   ]
  },
  {
   "cell_type": "markdown",
   "metadata": {},
   "source": [
    "#### Model 3 - Includes all questions"
   ]
  },
  {
   "cell_type": "code",
   "execution_count": 45,
   "metadata": {},
   "outputs": [
    {
     "name": "stdout",
     "output_type": "stream",
     "text": [
      "The Covariance Value\n",
      "0.014861463418246255\n",
      "\n",
      "The Covariance Matrix\n",
      "[[0.08614062 0.01486146]\n",
      " [0.01486146 0.08915013]]\n",
      "\n",
      "The Correlation Value\n",
      "0.5679833550567305\n",
      "\n",
      "The Correlation Matrix\n",
      "[[1.0, 0.5679833550567305], [0.5679833550567305, 1.0]]\n",
      "\n",
      "The euclidean distance\n",
      "[[0.20507108 0.32041474 0.01395074 0.38294888 0.43772889]\n",
      " [0.29412813 0.6540955  0.02864339 0.42616919 0.03344581]\n",
      " [0.06702835 0.16635895 0.31953804 0.18685976 0.19136519]\n",
      " [0.41418227 0.45167423 0.02510039 0.83900002 0.07421288]\n",
      " [0.2483359  0.33041255 0.53182233 0.78193414 0.10564651]]\n"
     ]
    }
   ],
   "source": [
    "import numpy as np\n",
    "import pandas as pd\n",
    "import random\n",
    "# Creating random arrays\n",
    "x = np.random.rand(5,5)\n",
    "y = np.random.rand(5,5)\n",
    "# Calulating center of mass or average\n",
    "avg = (np.mean(x),np.mean(y))\n",
    "# Calculating the variance\n",
    "x_var = np.sum(np.square (x - np.mean(x)))/((np.shape(x)[0]*np.shape(x)[1])-1)\n",
    "y_var = np.sum(np.square (y - np.mean(y)))/((np.shape(y)[0]*np.shape(y)[1])-1)\n",
    "# Covariance of single value\n",
    "cov_x_y = np.sum((x-np.mean(x))*(y-np.mean(y)))/((np.shape(x)[0]*np.shape(x)[1])-1)\n",
    "print(\"The Covariance Value\")\n",
    "print(cov_x_y)\n",
    "#Calculating covariance matrix\n",
    "cov_matrix = np.array([[x_var,cov_x_y],[cov_x_y,y_var]])\n",
    "print(\"\\nThe Covariance Matrix\")\n",
    "print(cov_matrix)\n",
    "#Calculating coreelation coefficient\n",
    "correlation_coeff = cov_x_y/(np.sqrt(x_var*y_var)*np.sqrt(y_var))\n",
    "print(\"\\nThe Correlation Value\")\n",
    "print(correlation_coeff)\n",
    "#Calculating correlation matrix\n",
    "corr_mat = [[x_var/x_var,correlation_coeff],[correlation_coeff,y_var/y_var]]\n",
    "print(\"\\nThe Correlation Matrix\")\n",
    "print(corr_mat)\n",
    "#Calcuating euclidean distance \n",
    "euc_distance = np.sqrt(np.square(x-y))\n",
    "print(\"\\nThe euclidean distance\")\n",
    "print(euc_distance)"
   ]
  }
 ],
 "metadata": {
  "kernelspec": {
   "display_name": "Python 3",
   "language": "python",
   "name": "python3"
  },
  "language_info": {
   "codemirror_mode": {
    "name": "ipython",
    "version": 3
   },
   "file_extension": ".py",
   "mimetype": "text/x-python",
   "name": "python",
   "nbconvert_exporter": "python",
   "pygments_lexer": "ipython3",
   "version": "3.8.5"
  }
 },
 "nbformat": 4,
 "nbformat_minor": 4
}
